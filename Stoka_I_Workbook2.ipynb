{
 "cells": [
  {
   "cell_type": "markdown",
   "id": "5af8c870-41f1-441d-9234-dd590b7719c7",
   "metadata": {},
   "source": [
    "1.1. Теоретический материал - Библиотека NumPy\n",
    "NumPy (NumericalPython) - это библиотека Python с открытым \n",
    "исходным кодом, которая используется практически во всех областях науки \n",
    "и техники. Это универсальный стандарт для работы с числовыми данными в \n",
    "Python.\n",
    "Если у вас уже есть Python, вы можете установить NumPy с помощью \n",
    "командной строки:\n",
    " pip install numpy\n",
    "Чтобы начать использовать NumPy необходимо импортировать \n",
    "соответствующую библиотеку:\n",
    " import numpy as np\n",
    "Основным объектом NumPy является однородный многомерный \n",
    "массив (в numpy называется numpy.ndarray). Это многомерный массив \n",
    "элементов (обычно чисел), одного типа.\n",
    "Наиболее важные атрибуты объектов ndarray:\n",
    "ndarray.ndim - число измерений (чаще их называют \"оси\") массива.\n",
    "ndarray.shape - размеры массива, его форма. Это кортеж натуральных \n",
    "чисел, показывающий длину массива по каждой оси. Для матрицы из n строк \n",
    "и m столбов, shape будет (n,m). Число элементов кортежа shape равно ndim.\n",
    "ndarray.size - количество элементов массива. Очевидно, равно \n",
    "произведению всех элементов атрибута shape.\n",
    "ndarray.dtype - объект, описывающий тип элементов массива. Можно \n",
    "определить dtype, используя стандартные типы данных Python. NumPy здесь \n",
    "предоставляет целый букет возможностей, как встроенных, например: bool_, \n",
    "character, int8, int16, int32, int64, float8, float16, float32, float64, complex64, \n",
    "object_, так и возможность определить собственные типы данных, в том \n",
    "числе и составные.\n",
    "ndarray.itemsize - размер каждого элемента массива в байтах.\n",
    "ndarray.data - буфер, содержащий фактические элементы массива. \n",
    "Обычно не нужно использовать этот атрибут, так как обращаться к \n",
    "элементам массива проще всего с помощью индексов.\n",
    "Подробнее о массивах в NumPy можно найти в официальной \n",
    "документации https://numpy.org/doc/stable/user/absolute_beginners.html"
   ]
  },
  {
   "cell_type": "markdown",
   "id": "825f63ec-d007-4bd5-97a3-ac001832aca4",
   "metadata": {},
   "source": [
    "1.2.1 Пример\n",
    "Задача: Создать массив 5x2. Создать массив 5x2. Вывести все значения массива, \n",
    "значение элемента с индексом (3,1) и второй столбец. Индексация \n",
    "начинается с нуля.\n"
   ]
  },
  {
   "cell_type": "code",
   "execution_count": 2,
   "id": "3cc8846b-5c38-4f27-91dc-bc2cb181b199",
   "metadata": {},
   "outputs": [
    {
     "name": "stdout",
     "output_type": "stream",
     "text": [
      "[[ 1  2]\n",
      " [ 3  4]\n",
      " [ 5  6]\n",
      " [ 7  8]\n",
      " [ 9 10]]\n",
      "8\n",
      "[3 4]\n"
     ]
    }
   ],
   "source": [
    "import numpy as np\n",
    "x = np.array([[1, 2], [3, 4], [5, 6], [7, 8], [9, 10]])\n",
    "print(x)\n",
    "print(x[3][1])\n",
    "print(x[1])"
   ]
  },
  {
   "cell_type": "markdown",
   "id": "103bc0da-79c1-4cdf-8e62-9b043a2d01bc",
   "metadata": {},
   "source": [
    "1.2.2 Пример\n",
    "Задача: Пример. Выполнить следующее:\n",
    "1. Создать вектор (одномерный массив) размера 10, заполненный \n",
    "нулями.\n",
    "2. Создать вектор размера 10, заполненный единицами.\n",
    "3. Создать вектор размера 10, заполненный заданным числом.\n",
    "4. Создать вектор со значениями от 10 до 19."
   ]
  },
  {
   "cell_type": "code",
   "execution_count": 3,
   "id": "b60fc320-af7f-46ca-8609-a2eeec01df86",
   "metadata": {},
   "outputs": [
    {
     "name": "stdout",
     "output_type": "stream",
     "text": [
      "[0. 0. 0. 0. 0. 0. 0. 0. 0. 0.] \n",
      " [1. 1. 1. 1. 1. 1. 1. 1. 1. 1.] \n",
      " [5 5 5 5 5 5 5 5 5 5] \n",
      " [10 11 12 13 14 15 16 17 18 19]\n"
     ]
    }
   ],
   "source": [
    "import numpy as np\n",
    "a = np.zeros(10)\n",
    "b = np.ones(10)\n",
    "c = np.full(10,5)\n",
    "d = np.arange(10,20)\n",
    "print(a, '\\n', b, '\\n', c, '\\n', d)"
   ]
  },
  {
   "cell_type": "markdown",
   "id": "c16ab32d-864c-4111-bbb4-3c0a03f3d2b4",
   "metadata": {},
   "source": [
    "1.2.3 Пример\n",
    "Задача:Создать массив 10x10 со случайными значениями, найти минимум, \n",
    "максимум и среднее значение."
   ]
  },
  {
   "cell_type": "code",
   "execution_count": 5,
   "id": "35644408-4800-47f1-a2e7-b805d00a9c91",
   "metadata": {},
   "outputs": [
    {
     "name": "stdout",
     "output_type": "stream",
     "text": [
      "0.017078900712722556 0.9978137032786439 0.5193149527265929\n"
     ]
    }
   ],
   "source": [
    "Z = np.random.random((10, 10))\n",
    "Zmin, Zmax, Zmean = Z.min(), Z.max(), Z.mean()\n",
    "print(Zmin, Zmax, Zmean)"
   ]
  },
  {
   "cell_type": "markdown",
   "id": "1a2dc220-ba71-49bc-8e95-91dcb592aa70",
   "metadata": {},
   "source": [
    "1.2.4 Пример\n",
    "Задача: Задать матрицу размерности 5 на 5 и поменять 2 строки в матрице\n",
    "местами."
   ]
  },
  {
   "cell_type": "code",
   "execution_count": 6,
   "id": "8d854fd0-10eb-466e-b167-2e5bb8745428",
   "metadata": {},
   "outputs": [
    {
     "name": "stdout",
     "output_type": "stream",
     "text": [
      "[[ 5  6  7  8  9]\n",
      " [ 0  1  2  3  4]\n",
      " [10 11 12 13 14]\n",
      " [15 16 17 18 19]\n",
      " [20 21 22 23 24]]\n"
     ]
    }
   ],
   "source": [
    "A = np.arange(25).reshape(5, 5)\n",
    "A[[0,1]] = A[[1,0]]\n",
    "print(A)"
   ]
  },
  {
   "cell_type": "markdown",
   "id": "621a0444-bdb6-4609-b9b6-bf91182842ee",
   "metadata": {},
   "source": [
    "1.2.5 Пример\n",
    "Задача: Выяснить результат следующих выражений:\n",
    "0 * np.nan\n",
    "np.nan == np.nan\n",
    "np.inf > np.nan\n",
    "np.nan - np.nan\n",
    "0.3 == 3 * 0.1"
   ]
  },
  {
   "cell_type": "code",
   "execution_count": 7,
   "id": "e335c478-0b06-47c4-8ff1-d56b2b0bd3ea",
   "metadata": {},
   "outputs": [
    {
     "name": "stdout",
     "output_type": "stream",
     "text": [
      "nan\n",
      "False\n",
      "False\n",
      "nan\n",
      "False\n"
     ]
    }
   ],
   "source": [
    "print(0 * np.nan)\n",
    "print(np.nan == np.nan)\n",
    "print(np.inf > np.nan)\n",
    "print(np.nan - np.nan)\n",
    "print(0.3 == 3 * 0.1)"
   ]
  },
  {
   "cell_type": "markdown",
   "id": "98049092-3324-40c1-9c3f-1ec59ec1c85b",
   "metadata": {},
   "source": [
    "1.2.6 Пример\n",
    "Задача: Отсортировать массив"
   ]
  },
  {
   "cell_type": "code",
   "execution_count": 8,
   "id": "588be7f8-b21f-4f3d-8b0a-4490c5696e24",
   "metadata": {},
   "outputs": [
    {
     "name": "stdout",
     "output_type": "stream",
     "text": [
      "[1 2 3 4 5 6 7 8]\n"
     ]
    }
   ],
   "source": [
    "arr = np.array([2, 1, 5, 3, 7, 4, 6, 8])\n",
    "print(np.sort(arr))"
   ]
  },
  {
   "cell_type": "markdown",
   "id": "3370ef60-af06-40fe-b5f1-35f56d2743c0",
   "metadata": {},
   "source": [
    "1.3.1 Задание\n",
    "Задача: Создать 8x8 матрицу и заполнить её в шахматном порядке нулями и \n",
    "единицами."
   ]
  },
  {
   "cell_type": "code",
   "execution_count": 15,
   "id": "77758c01-2f7c-4953-9967-be8a8ef119ac",
   "metadata": {},
   "outputs": [
    {
     "name": "stdout",
     "output_type": "stream",
     "text": [
      "[[0. 1. 0. 1. 0. 1. 0. 1.]\n",
      " [1. 0. 1. 0. 1. 0. 1. 0.]\n",
      " [0. 1. 0. 1. 0. 1. 0. 1.]\n",
      " [1. 0. 1. 0. 1. 0. 1. 0.]\n",
      " [0. 1. 0. 1. 0. 1. 0. 1.]\n",
      " [1. 0. 1. 0. 1. 0. 1. 0.]\n",
      " [0. 1. 0. 1. 0. 1. 0. 1.]\n",
      " [1. 0. 1. 0. 1. 0. 1. 0.]]\n"
     ]
    }
   ],
   "source": [
    "import numpy as np\n",
    "my_array = np.zeros(64).reshape(8,8)\n",
    "for i in range (0, 8):\n",
    "    for j in range (0, 8):\n",
    "        if (j + i) % 2 == 1:\n",
    "            my_array[i][j] = 1\n",
    "print(my_array)"
   ]
  },
  {
   "cell_type": "markdown",
   "id": "5638f342-f74d-48e9-9dce-2d6d508f61ae",
   "metadata": {},
   "source": [
    "1.3.2 Задание\n",
    "Задача: Создать 5x5 матрицу со значениями в строках от 0 до 4. Для создания \n",
    "необходимо использовать функцию arrange.\n"
   ]
  },
  {
   "cell_type": "code",
   "execution_count": 31,
   "id": "9ef24314-b6f0-44b4-bb17-4526d3ddb124",
   "metadata": {},
   "outputs": [
    {
     "name": "stdout",
     "output_type": "stream",
     "text": [
      "[[0 1 2 3 4]\n",
      " [0 1 2 3 4]\n",
      " [0 1 2 3 4]\n",
      " [0 1 2 3 4]\n",
      " [0 1 2 3 4]]\n"
     ]
    }
   ],
   "source": [
    "import numpy as np\n",
    "my_array = np.full((5, 5), np.arange(0, 5))\n",
    "print(array)"
   ]
  },
  {
   "cell_type": "markdown",
   "id": "d0873fc1-0b4e-4816-a256-b4924a973232",
   "metadata": {},
   "source": [
    "1.3.3 Задание\n",
    "Задача: Создать массив 3x3x3 со случайными значениями."
   ]
  },
  {
   "cell_type": "code",
   "execution_count": 40,
   "id": "30953aa4-77b5-4f33-9923-304cdce88731",
   "metadata": {},
   "outputs": [
    {
     "name": "stdout",
     "output_type": "stream",
     "text": [
      "[[[0.41566172 0.9546949  0.22735281]\n",
      "  [0.26056113 0.22438763 0.46695455]\n",
      "  [0.68903783 0.5438537  0.32204107]]\n",
      "\n",
      " [[0.24880911 0.53992934 0.02997406]\n",
      "  [0.13410931 0.95402541 0.48136294]\n",
      "  [0.39463435 0.67826856 0.31117394]]\n",
      "\n",
      " [[0.79033282 0.31233038 0.4515745 ]\n",
      "  [0.08907015 0.25023526 0.90319794]\n",
      "  [0.67669058 0.36532888 0.14248537]]]\n"
     ]
    }
   ],
   "source": [
    "import numpy as np\n",
    "my_array = np.random.random((3,3,3))\n",
    "print(my_array)"
   ]
  },
  {
   "cell_type": "markdown",
   "id": "6db25561-0580-4776-a119-844ae0ce4926",
   "metadata": {},
   "source": [
    "1.3.4 Задание\n",
    "Задача: Создать матрицу с 0 внутри, и 1 на границах."
   ]
  },
  {
   "cell_type": "code",
   "execution_count": null,
   "id": "dfb210b7-ce4c-4f31-959f-a2dd7ac73c4f",
   "metadata": {},
   "outputs": [
    {
     "name": "stdout",
     "output_type": "stream",
     "text": [
      "Enter the size of matrix: \n"
     ]
    },
    {
     "name": "stdin",
     "output_type": "stream",
     "text": [
      " 5\n"
     ]
    },
    {
     "name": "stdout",
     "output_type": "stream",
     "text": [
      "[[1 1 1 1 1]\n",
      " [1 0 0 0 1]\n",
      " [1 0 0 0 1]\n",
      " [1 0 0 0 1]\n",
      " [1 1 1 1 1]]\n"
     ]
    }
   ],
   "source": [
    "import numpy as np\n",
    "print('Enter the size of matrix: ')\n",
    "size = int(input())\n",
    "my_array = np.full((size, size), 0)\n",
    "for i in range (0, size):\n",
    "    for j in range (0, size):\n",
    "        if i == 0 or j == 0 or i == size - 1 or j == size - 1:\n",
    "            my_array[i][j] = 1\n",
    "print(my_array)\n"
   ]
  },
  {
   "cell_type": "markdown",
   "id": "1ab98acb-0791-4a42-a034-062d4d517ff5",
   "metadata": {},
   "source": [
    "1.3.5 Задание\n",
    "Задача: Создайте массив и отсортируйте его по убыванию."
   ]
  },
  {
   "cell_type": "code",
   "execution_count": 59,
   "id": "25c6731a-986f-4c81-a5fe-1e7c9314fa96",
   "metadata": {},
   "outputs": [
    {
     "name": "stdout",
     "output_type": "stream",
     "text": [
      "[321, 43, 7, 6, 4, 3]\n"
     ]
    }
   ],
   "source": [
    "def res_sort(*array):\n",
    "    array = sorted(array)\n",
    "    array.reverse()\n",
    "    return array\n",
    "\n",
    "x = [6, 3, 7, 43, 321, 4]\n",
    "print(res_sort(*x))\n"
   ]
  },
  {
   "cell_type": "markdown",
   "id": "fbfc3aac-d80c-4e2e-a43d-3b84740c499d",
   "metadata": {},
   "source": [
    "1.3.6 Задание\n",
    "Задача: Создайте матрицу, выведите ее форму, размер и размерность."
   ]
  },
  {
   "cell_type": "code",
   "execution_count": 88,
   "id": "a89948e2-0f9d-404a-8cca-9e88258a1878",
   "metadata": {},
   "outputs": [
    {
     "name": "stdout",
     "output_type": "stream",
     "text": [
      "[[ 23  12   7  98 100]\n",
      " [  1   1   0   0   0]\n",
      " [ 45 102  67   0   1]\n",
      " [ 21   4   8 678  99]]\n",
      "Shape:  (4, 5)\n",
      "Size:  20\n",
      "Ndim:  2\n"
     ]
    }
   ],
   "source": [
    "import numpy as np\n",
    "x = np.array([[23, 12, 7, 98, 100], [1, 1, 0, 0, 0],\n",
    "            [45, 102, 67, 0, 1], [21, 4, 8, 678, 99]]).reshape(4, 5)\n",
    "print(x)\n",
    "print('Shape: ', x.shape)\n",
    "print('Size: ', x.size)\n",
    "print('Ndim: ', x.ndim)"
   ]
  },
  {
   "cell_type": "markdown",
   "id": "98529557-63e2-40c7-8555-3c502a6cf1dd",
   "metadata": {},
   "source": [
    "2.1. Теоретический материал - Библиотека Pandas\n",
    "Первым шагом в любом начинании в области машинного обучения \n",
    "является введение исходных данных в систему. Исходные данные могут \n",
    "вводиться вручную, содержаться в файле или храниться в интернете в каком\u0002либо формате. Кроме того, часто требуется получить данные из нескольких \n",
    "источников.\n",
    "Библиотека pandas – это удобный и быстрый инструмент для работы \n",
    "с данными, обладающий большим функционалом. Если очень кратко, то\n",
    "pandas – это библиотека, которая предоставляет очень удобные с точки \n",
    "зрения использования инструменты для хранения данных и работе с ними. \n",
    "Библиотека pandas присутствует в стандартной поставке Anaconda. \n",
    "Если же ее там нет, то его можно установить отдельно. Для этого введите \n",
    "командной строке:\n",
    " pip install pandas\n",
    "Для импорта библиотеки используйте команду:\n",
    "import pandas as pd\n",
    "Библиотека pandas предоставляет две ключевые структуры данных:\n",
    "Series и DataFrame.\n",
    "Series – это одномерная структура данных, ее можно представить, как \n",
    "таблицу с одной строкой. С Series можно работать как с обычным массивом \n",
    "(обращаться по номеру индекса), и как с ассоциированным массивом, когда \n",
    "можно использовать ключ для доступа к элементам данных.\n",
    "DataFrame – это двумерная структура. Идейно она очень похожа на \n",
    "обычную таблицу, что выражается в способе ее создания и работе с ее \n",
    "элементами."
   ]
  },
  {
   "cell_type": "markdown",
   "id": "10fc638b-cac3-424f-adaa-49727d8e7255",
   "metadata": {},
   "source": [
    "2.2.1 Пример\n",
    "Задача: Создать Series из списка Python, словаря Python, и массива Numpy\n",
    "(установить буквенные метки для последнего)."
   ]
  },
  {
   "cell_type": "code",
   "execution_count": 10,
   "id": "e9afff80-abc0-4db6-ab04-078a8b5b02bf",
   "metadata": {},
   "outputs": [
    {
     "name": "stdout",
     "output_type": "stream",
     "text": [
      "0    1\n",
      "1    2\n",
      "2    3\n",
      "3    4\n",
      "4    5\n",
      "dtype: int64\n",
      "a    1\n",
      "b    2\n",
      "c    3\n",
      "dtype: int64\n",
      "a    1\n",
      "b    2\n",
      "c    3\n",
      "d    4\n",
      "e    5\n",
      "dtype: int64\n"
     ]
    }
   ],
   "source": [
    "import pandas as pd\n",
    "lst = [1, 2, 3, 4,5]\n",
    "d = {'a':1, 'b':2, 'c':3}\n",
    "ndarr = np.array([1,2,3,4,5])\n",
    "\n",
    "s1 = pd.Series(lst)\n",
    "s2 = pd.Series(d)\n",
    "s3 = pd.Series(ndarr, ['a', 'b', 'c', 'd', 'e'])\n",
    "\n",
    "print(s1)\n",
    "print(s2)\n",
    "print(s3)"
   ]
  },
  {
   "cell_type": "markdown",
   "id": "f004c00b-e0b5-46e1-959e-f4e98b052f20",
   "metadata": {},
   "source": [
    "2.2.2 Пример\n",
    "Задача: Дано два Series. Напечатать их первые элементы и все элементы после \n",
    "третьего (во втором фрейме)."
   ]
  },
  {
   "cell_type": "code",
   "execution_count": 11,
   "id": "ce6a681d-6aa4-4f62-99ac-ae25add19cda",
   "metadata": {},
   "outputs": [
    {
     "name": "stdout",
     "output_type": "stream",
     "text": [
      "1\n",
      "5\n",
      "3    2\n",
      "4    1\n",
      "dtype: int64\n"
     ]
    }
   ],
   "source": [
    "s1 = pd.Series([1,2,3,4,5], ['a', 'b', 'c', 'd', 'e'])\n",
    "s2 = pd.Series([5,4,3,2,1])\n",
    "print(s1['a'])\n",
    "print(s2[0])\n",
    "print(s2[3:])"
   ]
  },
  {
   "cell_type": "markdown",
   "id": "40652f88-6914-4941-ac01-0a5ce5d22fe3",
   "metadata": {},
   "source": [
    "2.2.3 Пример\n",
    "Задача: Создайте новый фрейм данных."
   ]
  },
  {
   "cell_type": "code",
   "execution_count": 12,
   "id": "2b3435f2-258b-451b-bd7e-dd917f0b8b0e",
   "metadata": {},
   "outputs": [
    {
     "data": {
      "text/html": [
       "<div>\n",
       "<style scoped>\n",
       "    .dataframe tbody tr th:only-of-type {\n",
       "        vertical-align: middle;\n",
       "    }\n",
       "\n",
       "    .dataframe tbody tr th {\n",
       "        vertical-align: top;\n",
       "    }\n",
       "\n",
       "    .dataframe thead th {\n",
       "        text-align: right;\n",
       "    }\n",
       "</style>\n",
       "<table border=\"1\" class=\"dataframe\">\n",
       "  <thead>\n",
       "    <tr style=\"text-align: right;\">\n",
       "      <th></th>\n",
       "      <th>Имя</th>\n",
       "      <th>Возраст</th>\n",
       "      <th>Водитель</th>\n",
       "    </tr>\n",
       "  </thead>\n",
       "  <tbody>\n",
       "    <tr>\n",
       "      <th>0</th>\n",
       "      <td>Джеки Дженсон</td>\n",
       "      <td>38</td>\n",
       "      <td>True</td>\n",
       "    </tr>\n",
       "    <tr>\n",
       "      <th>1</th>\n",
       "      <td>Стивен Стивенсон</td>\n",
       "      <td>25</td>\n",
       "      <td>False</td>\n",
       "    </tr>\n",
       "  </tbody>\n",
       "</table>\n",
       "</div>"
      ],
      "text/plain": [
       "                Имя  Возраст  Водитель\n",
       "0     Джеки Дженсон       38      True\n",
       "1  Стивен Стивенсон       25     False"
      ]
     },
     "execution_count": 12,
     "metadata": {},
     "output_type": "execute_result"
    }
   ],
   "source": [
    "df = pd.DataFrame()\n",
    "df['Имя'] = ['Джеки Дженсон', 'Стивен Стивенсон']\n",
    "df['Возраст'] = [38, 25]\n",
    "df['Водитель'] = [True, False]\n",
    "df"
   ]
  },
  {
   "cell_type": "markdown",
   "id": "5ca4b9c0-b6a5-4a4c-ba91-073a2c4bbce6",
   "metadata": {},
   "source": [
    "2.2.4 Пример\n",
    "Задача: Загрузите фрейм данных по ссылке: \n",
    "https://raw.githubusercontent.com/chrisalbon/simulated_datasets/master/titan\n",
    "ic.csv"
   ]
  },
  {
   "cell_type": "code",
   "execution_count": 15,
   "id": "93c07fc1-e3ef-404d-bc0c-df87d5ed34b3",
   "metadata": {},
   "outputs": [
    {
     "data": {
      "text/html": [
       "<div>\n",
       "<style scoped>\n",
       "    .dataframe tbody tr th:only-of-type {\n",
       "        vertical-align: middle;\n",
       "    }\n",
       "\n",
       "    .dataframe tbody tr th {\n",
       "        vertical-align: top;\n",
       "    }\n",
       "\n",
       "    .dataframe thead th {\n",
       "        text-align: right;\n",
       "    }\n",
       "</style>\n",
       "<table border=\"1\" class=\"dataframe\">\n",
       "  <thead>\n",
       "    <tr style=\"text-align: right;\">\n",
       "      <th></th>\n",
       "      <th>Name</th>\n",
       "      <th>PClass</th>\n",
       "      <th>Age</th>\n",
       "      <th>Sex</th>\n",
       "      <th>Survived</th>\n",
       "      <th>SexCode</th>\n",
       "    </tr>\n",
       "  </thead>\n",
       "  <tbody>\n",
       "    <tr>\n",
       "      <th>0</th>\n",
       "      <td>Allen, Miss Elisabeth Walton</td>\n",
       "      <td>1st</td>\n",
       "      <td>29.00</td>\n",
       "      <td>female</td>\n",
       "      <td>1</td>\n",
       "      <td>1</td>\n",
       "    </tr>\n",
       "    <tr>\n",
       "      <th>1</th>\n",
       "      <td>Allison, Miss Helen Loraine</td>\n",
       "      <td>1st</td>\n",
       "      <td>2.00</td>\n",
       "      <td>female</td>\n",
       "      <td>0</td>\n",
       "      <td>1</td>\n",
       "    </tr>\n",
       "    <tr>\n",
       "      <th>2</th>\n",
       "      <td>Allison, Mr Hudson Joshua Creighton</td>\n",
       "      <td>1st</td>\n",
       "      <td>30.00</td>\n",
       "      <td>male</td>\n",
       "      <td>0</td>\n",
       "      <td>0</td>\n",
       "    </tr>\n",
       "    <tr>\n",
       "      <th>3</th>\n",
       "      <td>Allison, Mrs Hudson JC (Bessie Waldo Daniels)</td>\n",
       "      <td>1st</td>\n",
       "      <td>25.00</td>\n",
       "      <td>female</td>\n",
       "      <td>0</td>\n",
       "      <td>1</td>\n",
       "    </tr>\n",
       "    <tr>\n",
       "      <th>4</th>\n",
       "      <td>Allison, Master Hudson Trevor</td>\n",
       "      <td>1st</td>\n",
       "      <td>0.92</td>\n",
       "      <td>male</td>\n",
       "      <td>1</td>\n",
       "      <td>0</td>\n",
       "    </tr>\n",
       "  </tbody>\n",
       "</table>\n",
       "</div>"
      ],
      "text/plain": [
       "                                            Name PClass    Age     Sex  \\\n",
       "0                   Allen, Miss Elisabeth Walton    1st  29.00  female   \n",
       "1                    Allison, Miss Helen Loraine    1st   2.00  female   \n",
       "2            Allison, Mr Hudson Joshua Creighton    1st  30.00    male   \n",
       "3  Allison, Mrs Hudson JC (Bessie Waldo Daniels)    1st  25.00  female   \n",
       "4                  Allison, Master Hudson Trevor    1st   0.92    male   \n",
       "\n",
       "   Survived  SexCode  \n",
       "0         1        1  \n",
       "1         0        1  \n",
       "2         0        0  \n",
       "3         0        1  \n",
       "4         1        0  "
      ]
     },
     "execution_count": 15,
     "metadata": {},
     "output_type": "execute_result"
    }
   ],
   "source": [
    "url = 'https://raw.githubusercontent.com/chrisalbon/simulated_datasets/master/titanic.csv'\n",
    "df = pd.read_csv(url)\n",
    "df.head(5)"
   ]
  },
  {
   "cell_type": "markdown",
   "id": "74fc0c7b-7af3-40d4-81ab-73dce547c782",
   "metadata": {},
   "source": [
    "2.2.5 Пример\n",
    "Задача: Пронализировать характеристики фрейма данных."
   ]
  },
  {
   "cell_type": "code",
   "execution_count": 16,
   "id": "efeb8e26-f331-4392-831c-5d3fc40e5503",
   "metadata": {},
   "outputs": [
    {
     "data": {
      "text/html": [
       "<div>\n",
       "<style scoped>\n",
       "    .dataframe tbody tr th:only-of-type {\n",
       "        vertical-align: middle;\n",
       "    }\n",
       "\n",
       "    .dataframe tbody tr th {\n",
       "        vertical-align: top;\n",
       "    }\n",
       "\n",
       "    .dataframe thead th {\n",
       "        text-align: right;\n",
       "    }\n",
       "</style>\n",
       "<table border=\"1\" class=\"dataframe\">\n",
       "  <thead>\n",
       "    <tr style=\"text-align: right;\">\n",
       "      <th></th>\n",
       "      <th>Age</th>\n",
       "      <th>Survived</th>\n",
       "      <th>SexCode</th>\n",
       "    </tr>\n",
       "  </thead>\n",
       "  <tbody>\n",
       "    <tr>\n",
       "      <th>count</th>\n",
       "      <td>756.000000</td>\n",
       "      <td>1313.000000</td>\n",
       "      <td>1313.000000</td>\n",
       "    </tr>\n",
       "    <tr>\n",
       "      <th>mean</th>\n",
       "      <td>30.397989</td>\n",
       "      <td>0.342727</td>\n",
       "      <td>0.351866</td>\n",
       "    </tr>\n",
       "    <tr>\n",
       "      <th>std</th>\n",
       "      <td>14.259049</td>\n",
       "      <td>0.474802</td>\n",
       "      <td>0.477734</td>\n",
       "    </tr>\n",
       "    <tr>\n",
       "      <th>min</th>\n",
       "      <td>0.170000</td>\n",
       "      <td>0.000000</td>\n",
       "      <td>0.000000</td>\n",
       "    </tr>\n",
       "    <tr>\n",
       "      <th>25%</th>\n",
       "      <td>21.000000</td>\n",
       "      <td>0.000000</td>\n",
       "      <td>0.000000</td>\n",
       "    </tr>\n",
       "    <tr>\n",
       "      <th>50%</th>\n",
       "      <td>28.000000</td>\n",
       "      <td>0.000000</td>\n",
       "      <td>0.000000</td>\n",
       "    </tr>\n",
       "    <tr>\n",
       "      <th>75%</th>\n",
       "      <td>39.000000</td>\n",
       "      <td>1.000000</td>\n",
       "      <td>1.000000</td>\n",
       "    </tr>\n",
       "    <tr>\n",
       "      <th>max</th>\n",
       "      <td>71.000000</td>\n",
       "      <td>1.000000</td>\n",
       "      <td>1.000000</td>\n",
       "    </tr>\n",
       "  </tbody>\n",
       "</table>\n",
       "</div>"
      ],
      "text/plain": [
       "              Age     Survived      SexCode\n",
       "count  756.000000  1313.000000  1313.000000\n",
       "mean    30.397989     0.342727     0.351866\n",
       "std     14.259049     0.474802     0.477734\n",
       "min      0.170000     0.000000     0.000000\n",
       "25%     21.000000     0.000000     0.000000\n",
       "50%     28.000000     0.000000     0.000000\n",
       "75%     39.000000     1.000000     1.000000\n",
       "max     71.000000     1.000000     1.000000"
      ]
     },
     "execution_count": 16,
     "metadata": {},
     "output_type": "execute_result"
    }
   ],
   "source": [
    "url = 'https://raw.githubusercontent.com/chrisalbon/simulated_datasets/master/titanic.csv'\n",
    "df = pd.read_csv(url)\n",
    "df.head(2)\n",
    "df.tail(3)\n",
    "df.shape\n",
    "df.describe()"
   ]
  },
  {
   "cell_type": "markdown",
   "id": "b247eeba-b754-4ecd-849e-ece32ae7a053",
   "metadata": {},
   "source": [
    "2.2.6 Пример\n",
    "Задача: Выберите индивидуальные данные или срезы фрейма данных"
   ]
  },
  {
   "cell_type": "code",
   "execution_count": 17,
   "id": "b547107a-f1c9-43f8-87c1-50b425457371",
   "metadata": {},
   "outputs": [
    {
     "data": {
      "text/html": [
       "<div>\n",
       "<style scoped>\n",
       "    .dataframe tbody tr th:only-of-type {\n",
       "        vertical-align: middle;\n",
       "    }\n",
       "\n",
       "    .dataframe tbody tr th {\n",
       "        vertical-align: top;\n",
       "    }\n",
       "\n",
       "    .dataframe thead th {\n",
       "        text-align: right;\n",
       "    }\n",
       "</style>\n",
       "<table border=\"1\" class=\"dataframe\">\n",
       "  <thead>\n",
       "    <tr style=\"text-align: right;\">\n",
       "      <th></th>\n",
       "      <th>Name</th>\n",
       "      <th>PClass</th>\n",
       "      <th>Age</th>\n",
       "      <th>Sex</th>\n",
       "      <th>Survived</th>\n",
       "      <th>SexCode</th>\n",
       "    </tr>\n",
       "  </thead>\n",
       "  <tbody>\n",
       "    <tr>\n",
       "      <th>1</th>\n",
       "      <td>Allison, Miss Helen Loraine</td>\n",
       "      <td>1st</td>\n",
       "      <td>2.0</td>\n",
       "      <td>female</td>\n",
       "      <td>0</td>\n",
       "      <td>1</td>\n",
       "    </tr>\n",
       "    <tr>\n",
       "      <th>2</th>\n",
       "      <td>Allison, Mr Hudson Joshua Creighton</td>\n",
       "      <td>1st</td>\n",
       "      <td>30.0</td>\n",
       "      <td>male</td>\n",
       "      <td>0</td>\n",
       "      <td>0</td>\n",
       "    </tr>\n",
       "    <tr>\n",
       "      <th>3</th>\n",
       "      <td>Allison, Mrs Hudson JC (Bessie Waldo Daniels)</td>\n",
       "      <td>1st</td>\n",
       "      <td>25.0</td>\n",
       "      <td>female</td>\n",
       "      <td>0</td>\n",
       "      <td>1</td>\n",
       "    </tr>\n",
       "  </tbody>\n",
       "</table>\n",
       "</div>"
      ],
      "text/plain": [
       "                                            Name PClass   Age     Sex  \\\n",
       "1                    Allison, Miss Helen Loraine    1st   2.0  female   \n",
       "2            Allison, Mr Hudson Joshua Creighton    1st  30.0    male   \n",
       "3  Allison, Mrs Hudson JC (Bessie Waldo Daniels)    1st  25.0  female   \n",
       "\n",
       "   Survived  SexCode  \n",
       "1         0        1  \n",
       "2         0        0  \n",
       "3         0        1  "
      ]
     },
     "execution_count": 17,
     "metadata": {},
     "output_type": "execute_result"
    }
   ],
   "source": [
    "url = 'https://raw.githubusercontent.com/chrisalbon/simulated_datasets/master/titanic.csv'\n",
    "df = pd.read_csv(url)\n",
    "df.iloc[1:4]"
   ]
  },
  {
   "cell_type": "markdown",
   "id": "5dd40317-d244-480a-8aa2-c2c33971e6fa",
   "metadata": {},
   "source": [
    "2.2.7 Пример\n",
    "Требуется отобрать строки фрейма данных на основе некоторого \n",
    "условия. Необходимо сформировать новый фрейм данных из пассажиров \n",
    "первого класса."
   ]
  },
  {
   "cell_type": "code",
   "execution_count": 19,
   "id": "36ff2712-a393-403f-a5ca-e9025ee3191a",
   "metadata": {},
   "outputs": [
    {
     "data": {
      "text/html": [
       "<div>\n",
       "<style scoped>\n",
       "    .dataframe tbody tr th:only-of-type {\n",
       "        vertical-align: middle;\n",
       "    }\n",
       "\n",
       "    .dataframe tbody tr th {\n",
       "        vertical-align: top;\n",
       "    }\n",
       "\n",
       "    .dataframe thead th {\n",
       "        text-align: right;\n",
       "    }\n",
       "</style>\n",
       "<table border=\"1\" class=\"dataframe\">\n",
       "  <thead>\n",
       "    <tr style=\"text-align: right;\">\n",
       "      <th></th>\n",
       "      <th>Name</th>\n",
       "      <th>PClass</th>\n",
       "      <th>Age</th>\n",
       "      <th>Sex</th>\n",
       "      <th>Survived</th>\n",
       "      <th>SexCode</th>\n",
       "    </tr>\n",
       "  </thead>\n",
       "  <tbody>\n",
       "    <tr>\n",
       "      <th>0</th>\n",
       "      <td>Allen, Miss Elisabeth Walton</td>\n",
       "      <td>1st</td>\n",
       "      <td>29.0</td>\n",
       "      <td>female</td>\n",
       "      <td>1</td>\n",
       "      <td>1</td>\n",
       "    </tr>\n",
       "    <tr>\n",
       "      <th>1</th>\n",
       "      <td>Allison, Miss Helen Loraine</td>\n",
       "      <td>1st</td>\n",
       "      <td>2.0</td>\n",
       "      <td>female</td>\n",
       "      <td>0</td>\n",
       "      <td>1</td>\n",
       "    </tr>\n",
       "  </tbody>\n",
       "</table>\n",
       "</div>"
      ],
      "text/plain": [
       "                           Name PClass   Age     Sex  Survived  SexCode\n",
       "0  Allen, Miss Elisabeth Walton    1st  29.0  female         1        1\n",
       "1   Allison, Miss Helen Loraine    1st   2.0  female         0        1"
      ]
     },
     "execution_count": 19,
     "metadata": {},
     "output_type": "execute_result"
    }
   ],
   "source": [
    "df[df['PClass'] == '1st'].head(2)"
   ]
  },
  {
   "cell_type": "markdown",
   "id": "de3388f1-1f34-40bb-ad96-1c68cc7c073f",
   "metadata": {},
   "source": [
    "2.3.1 Задание\n",
    "Задача: Найдитн евклидово расстояние между двумя Series (точками) a и b, не \n",
    "используя встроенную формулу."
   ]
  },
  {
   "cell_type": "code",
   "execution_count": 89,
   "id": "518b301f-42d9-4377-bd3c-63a76e1a67d2",
   "metadata": {},
   "outputs": [
    {
     "name": "stdout",
     "output_type": "stream",
     "text": [
      "8.06225774829855\n"
     ]
    }
   ],
   "source": [
    "import pandas as pd\n",
    "a = [5, 3]  #[x_coord, y_coord]\n",
    "b = [-3, 4]\n",
    "s1 = pd.Series(a)\n",
    "s2 = pd.Series(b)\n",
    "distance = ((s2[0] - s1[0]) ** 2 + (s2[1] - s1[0]) ** 2) ** 0.5\n",
    "print(distance)"
   ]
  },
  {
   "cell_type": "markdown",
   "id": "7bf6a02b-d812-4c08-9e28-2c90841d7dbe",
   "metadata": {},
   "source": [
    "2.3.2 Задание\n",
    "Задача: Найдите в Интернете ссылку на любой csv файл и сформируйте из него \n",
    "фрейм данных (например, коллекцию фреймов данных можно найти \n",
    "здесь: https://github.com/akmand/datasets)."
   ]
  },
  {
   "cell_type": "code",
   "execution_count": 100,
   "id": "b439e834-abd2-496e-9b17-b11b4c902eda",
   "metadata": {},
   "outputs": [
    {
     "data": {
      "text/html": [
       "<div>\n",
       "<style scoped>\n",
       "    .dataframe tbody tr th:only-of-type {\n",
       "        vertical-align: middle;\n",
       "    }\n",
       "\n",
       "    .dataframe tbody tr th {\n",
       "        vertical-align: top;\n",
       "    }\n",
       "\n",
       "    .dataframe thead th {\n",
       "        text-align: right;\n",
       "    }\n",
       "</style>\n",
       "<table border=\"1\" class=\"dataframe\">\n",
       "  <thead>\n",
       "    <tr style=\"text-align: right;\">\n",
       "      <th></th>\n",
       "      <th>Name</th>\n",
       "      <th>PClass</th>\n",
       "      <th>Age</th>\n",
       "      <th>Sex</th>\n",
       "      <th>Survived</th>\n",
       "      <th>SexCode</th>\n",
       "    </tr>\n",
       "  </thead>\n",
       "  <tbody>\n",
       "    <tr>\n",
       "      <th>0</th>\n",
       "      <td>Allen, Miss Elisabeth Walton</td>\n",
       "      <td>1st</td>\n",
       "      <td>29.00</td>\n",
       "      <td>female</td>\n",
       "      <td>1</td>\n",
       "      <td>1</td>\n",
       "    </tr>\n",
       "    <tr>\n",
       "      <th>1</th>\n",
       "      <td>Allison, Miss Helen Loraine</td>\n",
       "      <td>1st</td>\n",
       "      <td>2.00</td>\n",
       "      <td>female</td>\n",
       "      <td>0</td>\n",
       "      <td>1</td>\n",
       "    </tr>\n",
       "    <tr>\n",
       "      <th>2</th>\n",
       "      <td>Allison, Mr Hudson Joshua Creighton</td>\n",
       "      <td>1st</td>\n",
       "      <td>30.00</td>\n",
       "      <td>male</td>\n",
       "      <td>0</td>\n",
       "      <td>0</td>\n",
       "    </tr>\n",
       "    <tr>\n",
       "      <th>3</th>\n",
       "      <td>Allison, Mrs Hudson JC (Bessie Waldo Daniels)</td>\n",
       "      <td>1st</td>\n",
       "      <td>25.00</td>\n",
       "      <td>female</td>\n",
       "      <td>0</td>\n",
       "      <td>1</td>\n",
       "    </tr>\n",
       "    <tr>\n",
       "      <th>4</th>\n",
       "      <td>Allison, Master Hudson Trevor</td>\n",
       "      <td>1st</td>\n",
       "      <td>0.92</td>\n",
       "      <td>male</td>\n",
       "      <td>1</td>\n",
       "      <td>0</td>\n",
       "    </tr>\n",
       "    <tr>\n",
       "      <th>...</th>\n",
       "      <td>...</td>\n",
       "      <td>...</td>\n",
       "      <td>...</td>\n",
       "      <td>...</td>\n",
       "      <td>...</td>\n",
       "      <td>...</td>\n",
       "    </tr>\n",
       "    <tr>\n",
       "      <th>1308</th>\n",
       "      <td>Zakarian, Mr Artun</td>\n",
       "      <td>3rd</td>\n",
       "      <td>27.00</td>\n",
       "      <td>male</td>\n",
       "      <td>0</td>\n",
       "      <td>0</td>\n",
       "    </tr>\n",
       "    <tr>\n",
       "      <th>1309</th>\n",
       "      <td>Zakarian, Mr Maprieder</td>\n",
       "      <td>3rd</td>\n",
       "      <td>26.00</td>\n",
       "      <td>male</td>\n",
       "      <td>0</td>\n",
       "      <td>0</td>\n",
       "    </tr>\n",
       "    <tr>\n",
       "      <th>1310</th>\n",
       "      <td>Zenni, Mr Philip</td>\n",
       "      <td>3rd</td>\n",
       "      <td>22.00</td>\n",
       "      <td>male</td>\n",
       "      <td>0</td>\n",
       "      <td>0</td>\n",
       "    </tr>\n",
       "    <tr>\n",
       "      <th>1311</th>\n",
       "      <td>Lievens, Mr Rene</td>\n",
       "      <td>3rd</td>\n",
       "      <td>24.00</td>\n",
       "      <td>male</td>\n",
       "      <td>0</td>\n",
       "      <td>0</td>\n",
       "    </tr>\n",
       "    <tr>\n",
       "      <th>1312</th>\n",
       "      <td>Zimmerman, Leo</td>\n",
       "      <td>3rd</td>\n",
       "      <td>29.00</td>\n",
       "      <td>male</td>\n",
       "      <td>0</td>\n",
       "      <td>0</td>\n",
       "    </tr>\n",
       "  </tbody>\n",
       "</table>\n",
       "<p>1313 rows × 6 columns</p>\n",
       "</div>"
      ],
      "text/plain": [
       "                                               Name PClass    Age     Sex  \\\n",
       "0                      Allen, Miss Elisabeth Walton    1st  29.00  female   \n",
       "1                       Allison, Miss Helen Loraine    1st   2.00  female   \n",
       "2               Allison, Mr Hudson Joshua Creighton    1st  30.00    male   \n",
       "3     Allison, Mrs Hudson JC (Bessie Waldo Daniels)    1st  25.00  female   \n",
       "4                     Allison, Master Hudson Trevor    1st   0.92    male   \n",
       "...                                             ...    ...    ...     ...   \n",
       "1308                             Zakarian, Mr Artun    3rd  27.00    male   \n",
       "1309                         Zakarian, Mr Maprieder    3rd  26.00    male   \n",
       "1310                               Zenni, Mr Philip    3rd  22.00    male   \n",
       "1311                               Lievens, Mr Rene    3rd  24.00    male   \n",
       "1312                                 Zimmerman, Leo    3rd  29.00    male   \n",
       "\n",
       "      Survived  SexCode  \n",
       "0            1        1  \n",
       "1            0        1  \n",
       "2            0        0  \n",
       "3            0        1  \n",
       "4            1        0  \n",
       "...        ...      ...  \n",
       "1308         0        0  \n",
       "1309         0        0  \n",
       "1310         0        0  \n",
       "1311         0        0  \n",
       "1312         0        0  \n",
       "\n",
       "[1313 rows x 6 columns]"
      ]
     },
     "execution_count": 100,
     "metadata": {},
     "output_type": "execute_result"
    }
   ],
   "source": [
    "import pandas as pd\n",
    "url = 'https://raw.githubusercontent.com/chrisalbon/simulated_datasets/master/titanic.csv'\n",
    "dataframe = pd.read_csv(url)\n",
    "dataframe\n"
   ]
  },
  {
   "cell_type": "markdown",
   "id": "f4bca705-13f5-4285-af2d-15e1ce9bb06e",
   "metadata": {},
   "source": [
    "2.3.3 Задание\n",
    "Задача: Проделайте с получившемся из предыдущего задания фреймом данных \n",
    "те же действия, что и в примерах 2.2.5-2.2.7"
   ]
  },
  {
   "cell_type": "code",
   "execution_count": 134,
   "id": "6ca103f8-138c-4b5a-a7c2-339de904874f",
   "metadata": {},
   "outputs": [
    {
     "data": {
      "text/html": [
       "<div>\n",
       "<style scoped>\n",
       "    .dataframe tbody tr th:only-of-type {\n",
       "        vertical-align: middle;\n",
       "    }\n",
       "\n",
       "    .dataframe tbody tr th {\n",
       "        vertical-align: top;\n",
       "    }\n",
       "\n",
       "    .dataframe thead th {\n",
       "        text-align: right;\n",
       "    }\n",
       "</style>\n",
       "<table border=\"1\" class=\"dataframe\">\n",
       "  <thead>\n",
       "    <tr style=\"text-align: right;\">\n",
       "      <th></th>\n",
       "      <th>sepal_length_cm</th>\n",
       "      <th>sepal_width_cm</th>\n",
       "      <th>petal_length_cm</th>\n",
       "      <th>petal_width_cm</th>\n",
       "      <th>species</th>\n",
       "    </tr>\n",
       "  </thead>\n",
       "  <tbody>\n",
       "    <tr>\n",
       "      <th>0</th>\n",
       "      <td>5.1</td>\n",
       "      <td>3.5</td>\n",
       "      <td>1.4</td>\n",
       "      <td>0.2</td>\n",
       "      <td>setosa</td>\n",
       "    </tr>\n",
       "    <tr>\n",
       "      <th>1</th>\n",
       "      <td>4.9</td>\n",
       "      <td>3.0</td>\n",
       "      <td>1.4</td>\n",
       "      <td>0.2</td>\n",
       "      <td>setosa</td>\n",
       "    </tr>\n",
       "    <tr>\n",
       "      <th>2</th>\n",
       "      <td>4.7</td>\n",
       "      <td>3.2</td>\n",
       "      <td>1.3</td>\n",
       "      <td>0.2</td>\n",
       "      <td>setosa</td>\n",
       "    </tr>\n",
       "    <tr>\n",
       "      <th>3</th>\n",
       "      <td>4.6</td>\n",
       "      <td>3.1</td>\n",
       "      <td>1.5</td>\n",
       "      <td>0.2</td>\n",
       "      <td>setosa</td>\n",
       "    </tr>\n",
       "    <tr>\n",
       "      <th>4</th>\n",
       "      <td>5.0</td>\n",
       "      <td>3.6</td>\n",
       "      <td>1.4</td>\n",
       "      <td>0.2</td>\n",
       "      <td>setosa</td>\n",
       "    </tr>\n",
       "    <tr>\n",
       "      <th>...</th>\n",
       "      <td>...</td>\n",
       "      <td>...</td>\n",
       "      <td>...</td>\n",
       "      <td>...</td>\n",
       "      <td>...</td>\n",
       "    </tr>\n",
       "    <tr>\n",
       "      <th>145</th>\n",
       "      <td>6.7</td>\n",
       "      <td>3.0</td>\n",
       "      <td>5.2</td>\n",
       "      <td>2.3</td>\n",
       "      <td>virginica</td>\n",
       "    </tr>\n",
       "    <tr>\n",
       "      <th>146</th>\n",
       "      <td>6.3</td>\n",
       "      <td>2.5</td>\n",
       "      <td>5.0</td>\n",
       "      <td>1.9</td>\n",
       "      <td>virginica</td>\n",
       "    </tr>\n",
       "    <tr>\n",
       "      <th>147</th>\n",
       "      <td>6.5</td>\n",
       "      <td>3.0</td>\n",
       "      <td>5.2</td>\n",
       "      <td>2.0</td>\n",
       "      <td>virginica</td>\n",
       "    </tr>\n",
       "    <tr>\n",
       "      <th>148</th>\n",
       "      <td>6.2</td>\n",
       "      <td>3.4</td>\n",
       "      <td>5.4</td>\n",
       "      <td>2.3</td>\n",
       "      <td>virginica</td>\n",
       "    </tr>\n",
       "    <tr>\n",
       "      <th>149</th>\n",
       "      <td>5.9</td>\n",
       "      <td>3.0</td>\n",
       "      <td>5.1</td>\n",
       "      <td>1.8</td>\n",
       "      <td>virginica</td>\n",
       "    </tr>\n",
       "  </tbody>\n",
       "</table>\n",
       "<p>150 rows × 5 columns</p>\n",
       "</div>"
      ],
      "text/plain": [
       "     sepal_length_cm  sepal_width_cm  petal_length_cm  petal_width_cm  \\\n",
       "0                5.1             3.5              1.4             0.2   \n",
       "1                4.9             3.0              1.4             0.2   \n",
       "2                4.7             3.2              1.3             0.2   \n",
       "3                4.6             3.1              1.5             0.2   \n",
       "4                5.0             3.6              1.4             0.2   \n",
       "..               ...             ...              ...             ...   \n",
       "145              6.7             3.0              5.2             2.3   \n",
       "146              6.3             2.5              5.0             1.9   \n",
       "147              6.5             3.0              5.2             2.0   \n",
       "148              6.2             3.4              5.4             2.3   \n",
       "149              5.9             3.0              5.1             1.8   \n",
       "\n",
       "       species  \n",
       "0       setosa  \n",
       "1       setosa  \n",
       "2       setosa  \n",
       "3       setosa  \n",
       "4       setosa  \n",
       "..         ...  \n",
       "145  virginica  \n",
       "146  virginica  \n",
       "147  virginica  \n",
       "148  virginica  \n",
       "149  virginica  \n",
       "\n",
       "[150 rows x 5 columns]"
      ]
     },
     "execution_count": 134,
     "metadata": {},
     "output_type": "execute_result"
    }
   ],
   "source": [
    "import pandas as pd\n",
    "from sklearn import preprocessing\n",
    "dataframe = pd.read_csv('https://raw.githubusercontent.com/akmand/datasets/master/iris.csv')\n",
    "dataframe\n",
    "#scaled_feature\n"
   ]
  },
  {
   "cell_type": "markdown",
   "id": "92ac2aa2-68d8-47cc-9ca4-e006c6339a87",
   "metadata": {},
   "source": [
    "3.1 Теоретический материал - работа с числовыми данными\n",
    "Количественные данные что-то измеряют – будь то размер класса, \n",
    "ежемесячные продажи или оценки учащихся. Естественным способом \n",
    "представления этих величин является численным (например, 150 студентов, \n",
    "$529 392 продаж).\n",
    "Нормализация данных — это общепринятая задача предобработки в \n",
    "машинном обучении. Многие алгоритмы предполагают, что все признаки \n",
    "находятся в единой шкале, как правило, от 0 до 1 или от -1 до 1. \n",
    "Существует множество способов нормализации значений признаков, \n",
    "чтобы масштабировать их к единому диапазону и использовать в различных \n",
    "моделях машинного обучения. В зависимости от используемой функции, их \n",
    "можно разделить на 2 большие группы: линейные и нелинейные. При \n",
    "нелинейной нормализации в расчетных соотношениях используются \n",
    "функции логистической сигмоиды или гиперболического тангенса. В \n",
    "линейной нормализации изменение переменных осуществляется \n",
    "пропорционально, по линейному закону.\n",
    "На практике наиболее распространены следующие методы \n",
    "нормализации признаков:\n",
    " Минимакс – линейное преобразование данных в диапазоне [0..1], где \n",
    "минимальное и максимальное масштабируемые значения \n",
    "соответствуют 0 и 1 соответственно;\n",
    " Z-масштабирование данных на основе среднего значения и \n",
    "стандартного отклонения: производят деление разницы между \n",
    "переменной и средним значением на стандартное отклонение.\n",
    "При масштабировании данных мы будем использовать одну из \n",
    "популярных библиотек машинного обучения Scikit-learn. Библиотека \n",
    "содержит пакет sklearn.preprocessing, который предоставляет широкие\n",
    "возможности для нормализации данных. Следует отметить, что в целом \n",
    "алгоритмы обучения выигрывают от стандартизации набора данных."
   ]
  },
  {
   "cell_type": "markdown",
   "id": "0c859dd8-4675-461d-877b-b7f2bf0b0b58",
   "metadata": {},
   "source": [
    "Пример 3.2.1\n",
    "Задача: Прошкалируйте числовой признак в диапазон между двумя значениями."
   ]
  },
  {
   "cell_type": "code",
   "execution_count": 20,
   "id": "c1bda6a4-8b02-43bd-918d-c6d5e6cd22e5",
   "metadata": {},
   "outputs": [
    {
     "data": {
      "text/plain": [
       "array([[0.        ],\n",
       "       [0.28571429],\n",
       "       [0.35714286],\n",
       "       [0.42857143],\n",
       "       [1.        ]])"
      ]
     },
     "execution_count": 20,
     "metadata": {},
     "output_type": "execute_result"
    }
   ],
   "source": [
    "import numpy as np\n",
    "from sklearn import preprocessing\n",
    "feature = np.array([[-500.5], [-100.1], [0], [100.1], [900.9]])\n",
    "minmax_scale = preprocessing.MinMaxScaler(feature_range = (0, 1))\n",
    "scaled_feature = minmax_scale.fit_transform(feature)\n",
    "scaled_feature"
   ]
  },
  {
   "cell_type": "markdown",
   "id": "ad78fb23-165e-43d6-96c5-076fdac09eb2",
   "metadata": {},
   "source": [
    "3.2.2 Пример\n",
    "Задача: Преобразуйте признак, чтобы он имел среднее значение 0 и стандартное \n",
    "отклонение 1."
   ]
  },
  {
   "cell_type": "code",
   "execution_count": 22,
   "id": "5ac1a95d-5c01-4ff7-a4cb-75574596d085",
   "metadata": {},
   "outputs": [
    {
     "data": {
      "text/plain": [
       "array([[-0.76058269],\n",
       "       [-0.54177196],\n",
       "       [-0.35009716],\n",
       "       [-0.32271504],\n",
       "       [ 1.97516685]])"
      ]
     },
     "execution_count": 22,
     "metadata": {},
     "output_type": "execute_result"
    }
   ],
   "source": [
    "x = np.array([[-1000.1], [-200.2], [500.5], [600.6], [9000.9]])\n",
    "scaler = preprocessing.StandardScaler()\n",
    "stand = scaler.fit_transform(x)\n",
    "stand"
   ]
  },
  {
   "cell_type": "markdown",
   "id": "862e5e40-eaa3-4e2c-9a4b-53a5f20ae3a2",
   "metadata": {},
   "source": [
    "3.2.2 Пример\n",
    "Задача: Дан фрейм данных \n",
    "dfTest = pd.DataFrame({'A':[14.00,90.20,90.95,96.27,91.21],\n",
    " 'B':[103.02,107.26,110.35,114.23,114.68],\n",
    " 'C':['big','small','big','small','small']})\n",
    "Необходимо масштабировать его числовые столбцы.\n"
   ]
  },
  {
   "cell_type": "code",
   "execution_count": 23,
   "id": "8c31d404-bcfd-4046-b9cf-9023b1d7bdf6",
   "metadata": {},
   "outputs": [
    {
     "data": {
      "text/html": [
       "<div>\n",
       "<style scoped>\n",
       "    .dataframe tbody tr th:only-of-type {\n",
       "        vertical-align: middle;\n",
       "    }\n",
       "\n",
       "    .dataframe tbody tr th {\n",
       "        vertical-align: top;\n",
       "    }\n",
       "\n",
       "    .dataframe thead th {\n",
       "        text-align: right;\n",
       "    }\n",
       "</style>\n",
       "<table border=\"1\" class=\"dataframe\">\n",
       "  <thead>\n",
       "    <tr style=\"text-align: right;\">\n",
       "      <th></th>\n",
       "      <th>A</th>\n",
       "      <th>B</th>\n",
       "      <th>C</th>\n",
       "    </tr>\n",
       "  </thead>\n",
       "  <tbody>\n",
       "    <tr>\n",
       "      <th>0</th>\n",
       "      <td>0.000000</td>\n",
       "      <td>0.000000</td>\n",
       "      <td>big</td>\n",
       "    </tr>\n",
       "    <tr>\n",
       "      <th>1</th>\n",
       "      <td>0.926219</td>\n",
       "      <td>0.363636</td>\n",
       "      <td>small</td>\n",
       "    </tr>\n",
       "    <tr>\n",
       "      <th>2</th>\n",
       "      <td>0.935335</td>\n",
       "      <td>0.628645</td>\n",
       "      <td>big</td>\n",
       "    </tr>\n",
       "    <tr>\n",
       "      <th>3</th>\n",
       "      <td>1.000000</td>\n",
       "      <td>0.961407</td>\n",
       "      <td>small</td>\n",
       "    </tr>\n",
       "    <tr>\n",
       "      <th>4</th>\n",
       "      <td>0.938495</td>\n",
       "      <td>1.000000</td>\n",
       "      <td>small</td>\n",
       "    </tr>\n",
       "  </tbody>\n",
       "</table>\n",
       "</div>"
      ],
      "text/plain": [
       "          A         B      C\n",
       "0  0.000000  0.000000    big\n",
       "1  0.926219  0.363636  small\n",
       "2  0.935335  0.628645    big\n",
       "3  1.000000  0.961407  small\n",
       "4  0.938495  1.000000  small"
      ]
     },
     "execution_count": 23,
     "metadata": {},
     "output_type": "execute_result"
    }
   ],
   "source": [
    "import pandas as pd\n",
    "from sklearn.preprocessing import MinMaxScaler\n",
    "scaler = MinMaxScaler()\n",
    "dfTest = pd.DataFrame({'A':[14.00,90.20,90.95,96.27,91.21],\n",
    "    'B':[103.02,107.26,110.35,114.23,114.68],\n",
    "    'C':['big','small','big','small','small']})\n",
    "\n",
    "dfTest[['A', 'B']] = scaler.fit_transform(dfTest[['A', 'B']])\n",
    "dfTest"
   ]
  },
  {
   "cell_type": "markdown",
   "id": "fddf52e2-0362-4f78-bbbb-cef1af2d7c0b",
   "metadata": {},
   "source": [
    "3.3.2 Задание\n",
    "Задача: Загрузить фрейм данных по ссылке:\n",
    "https://raw.githubusercontent.com/akmand/datasets/master/iris.csv.\n",
    "Необходимо выполнить нормализацию первого числового признака \n",
    "(sepal_length_cm) с использованием минимаксного преобразования, а \n",
    "второго (sepal_width_cm) с задействованием z-масштабирования."
   ]
  },
  {
   "cell_type": "code",
   "execution_count": 171,
   "id": "2300b38c-61ba-4ad8-92a5-13beeb2822d4",
   "metadata": {},
   "outputs": [
    {
     "name": "stdout",
     "output_type": "stream",
     "text": [
      "     sepal_length_cm\n",
      "0           0.222222\n",
      "1           0.166667\n",
      "2           0.111111\n",
      "3           0.083333\n",
      "4           0.194444\n",
      "..               ...\n",
      "145         0.666667\n",
      "146         0.555556\n",
      "147         0.611111\n",
      "148         0.527778\n",
      "149         0.444444\n",
      "\n",
      "[150 rows x 1 columns]\n",
      "     sepal_width_cm\n",
      "0          1.032057\n",
      "1         -0.124958\n",
      "2          0.337848\n",
      "3          0.106445\n",
      "4          1.263460\n",
      "..              ...\n",
      "145       -0.124958\n",
      "146       -1.281972\n",
      "147       -0.124958\n",
      "148        0.800654\n",
      "149       -0.124958\n",
      "\n",
      "[150 rows x 1 columns]\n",
      "Average:  sepal_width_cm   -0.0\n",
      "dtype: float64\n",
      "Standard deviation sepal_width_cm    1.00335\n",
      "dtype: float64\n"
     ]
    }
   ],
   "source": [
    "import pandas as pd\n",
    "import numpy as np\n",
    "from sklearn import preprocessing\n",
    "df_1 = pd.read_csv('https://raw.githubusercontent.com/akmand/datasets/master/iris.csv', usecols = ['sepal_length_cm'])\n",
    "df_2 = pd.read_csv('https://raw.githubusercontent.com/akmand/datasets/master/iris.csv', usecols = ['sepal_width_cm'])\n",
    "minmax_scale = preprocessing.MinMaxScaler(feature_range = (0, 1))\n",
    "z_scaler = preprocessing.StandardScaler()\n",
    "names_1 = df_1.columns\n",
    "names_2 = df_2.columns\n",
    "scaled_feature_1 = minmax_scale.fit_transform(df_1)\n",
    "scaled_feature_2 = z_scaler.fit_transform(df_2)\n",
    "scaled_df_1 = pd.DataFrame(scaled_feature_1, columns = names_1)\n",
    "scaled_df_2 = pd.DataFrame(scaled_feature_2, columns = names_2)\n",
    "print(scaled_df_1)\n",
    "print(scaled_df_2)\n",
    "print('Average: ', round(scaled_df_2.mean()))\n",
    "print('Standard deviation', scaled_df_2.std())\n",
    "\n"
   ]
  },
  {
   "cell_type": "code",
   "execution_count": null,
   "id": "522acc69-173e-448c-aa26-619909bd6040",
   "metadata": {},
   "outputs": [],
   "source": []
  }
 ],
 "metadata": {
  "kernelspec": {
   "display_name": "anaconda-2022.05-py39",
   "language": "python",
   "name": "conda-env-anaconda-2022.05-py39-py"
  },
  "language_info": {
   "codemirror_mode": {
    "name": "ipython",
    "version": 3
   },
   "file_extension": ".py",
   "mimetype": "text/x-python",
   "name": "python",
   "nbconvert_exporter": "python",
   "pygments_lexer": "ipython3",
   "version": "3.9.12"
  }
 },
 "nbformat": 4,
 "nbformat_minor": 5
}
