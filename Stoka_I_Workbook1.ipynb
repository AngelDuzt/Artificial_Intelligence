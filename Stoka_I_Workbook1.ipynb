{
 "cells": [
  {
   "cell_type": "code",
   "execution_count": null,
   "id": "7e406c80-94ac-4c8d-90e4-639f839f230d",
   "metadata": {},
   "outputs": [],
   "source": [
    "1.1.Теоретический материал – Типы данных\n",
    "Типы данных\n",
    "Все типы данных в Python относятся к одной из 2-х категорий:\n",
    "изменяемые (mutable) и неизменяемые (immutable).\n",
    "Неизменяемые объекты:\n",
    " - числовые данные (int, float),\n",
    " - bool,\n",
    " - None,\n",
    " - символьные строки (class 'str'),\n",
    " - кортежи (tuple).\n",
    "Изменяемые объекты:\n",
    " - списки (list),\n",
    " - множества (set),\n",
    " - словари (dict).\n"
   ]
  },
  {
   "cell_type": "markdown",
   "id": "7f33df64-ae8a-4929-a8c4-c215ec5bb2cd",
   "metadata": {},
   "source": [
    "1.2. Пример\n",
    "Задача: Выведите на печать и определите тип переменной."
   ]
  },
  {
   "cell_type": "code",
   "execution_count": 1,
   "id": "5dc43da7-8bf3-436c-9097-a33dc464a006",
   "metadata": {},
   "outputs": [
    {
     "name": "stdout",
     "output_type": "stream",
     "text": [
      "39.4 | <class 'float'> \n",
      " None | <class 'NoneType'> \n",
      " ('a', 5, 12.345, (2, 'b')) | <class 'tuple'> \n",
      " [['Антонова Антонина', 34, 'ж'], ['Борисов Борис', 26, 'м']] | <class 'list'> \n",
      " {'title', 1, 2, 'content'} | <class 'set'> \n",
      "\n"
     ]
    }
   ],
   "source": [
    "x = 3+5.2*7\n",
    "y = None\n",
    "z = 'a', 5, 12.345, (2, 'b')\n",
    "df = [['Антонова Антонина', 34, 'ж'], ['Борисов Борис', 26, 'м']]\n",
    "A = {1, 'title', 2, 'content'}\n",
    "print(x, '|', type(x), '\\n',\n",
    "      y, '|', type(y), '\\n',\n",
    "      z, '|', type(z), '\\n',\n",
    "      df, '|', type(df), '\\n',\n",
    "      A, '|', type(A), '\\n')"
   ]
  },
  {
   "cell_type": "markdown",
   "id": "5ac4b1ed-ff64-4fe3-ad52-ea3e02a6332d",
   "metadata": {},
   "source": [
    "1.3. Задание\n",
    "Задача: Выведите на печать и определите тип переменной"
   ]
  },
  {
   "cell_type": "code",
   "execution_count": 3,
   "id": "69b062ae-f2b0-4adc-ab55-5b295c533ecc",
   "metadata": {},
   "outputs": [
    {
     "name": "stdout",
     "output_type": "stream",
     "text": [
      "True <class 'bool'>\n",
      "{8, 1, 3, 7} <class 'set'>\n",
      "{'apple', 2, 4, 5, 10} <class 'set'>\n",
      "set() <class 'set'>\n",
      "('Антонова Антонина', 34, 'ж') <class 'tuple'>\n",
      "type <class 'str'>\n",
      "[1, 'title', 2, 'content'] <class 'list'>\n"
     ]
    }
   ],
   "source": [
    "x = 5 >= 2\n",
    "A = {1, 3, 7, 8}\n",
    "B = {2, 4, 5, 10, 'apple'}\n",
    "C = A & B\n",
    "df = 'Антонова Антонина', 34, 'ж'\n",
    "z = 'type'\n",
    "D = [1, 'title', 2, 'content']\n",
    "print(x, type(x))\n",
    "print(A, type(A))\n",
    "print(B, type(B))\n",
    "print(C, type(C))\n",
    "print(df, type(df))\n",
    "print(z, type(z))\n",
    "print(D, type(D))\n"
   ]
  },
  {
   "cell_type": "code",
   "execution_count": null,
   "id": "512122df-cf51-43ce-baa8-7eb500424728",
   "metadata": {},
   "outputs": [],
   "source": [
    "2.1. Теоретический материал - Условный оператор\n",
    "If – Условный оператор\n",
    "В коде часто приходится проверять выполнимость или \n",
    "невыполнимость каких-то условий. Синтаксис:\n",
    "if <условие1 (булевское выражение)> :\n",
    " <код, который выполнится, если условие верно>\n",
    "elif <условие2 (булевское выражение)>:\n",
    " <код, который выполнится, если условие1 было неверно, а\n",
    "условие2 верно>\n",
    "else:\n",
    " <код, который выполнится, если условие1 и условие2 были\n",
    "неверны>\n",
    "Обратите внимание, что код, который должен выполняться внутри \n",
    "каждого условия, записывается с отступом в 4 пробела от уровня if, elif и \n",
    "else: в питоне области видимости переменных обозначаются отступами.\n",
    "То есть, отступы позволяют понять, где начинается код, \n",
    "который должен выполняться при выполнении условия в if, и где \n",
    "заканчивается."
   ]
  },
  {
   "cell_type": "code",
   "execution_count": null,
   "id": "3171860d-1bb9-4127-a32f-bc92dc74aa09",
   "metadata": {},
   "outputs": [],
   "source": [
    "2.2. Пример\n",
    "Задача: Вывести на экран является ли переменная х положительной, \n",
    "отрицательной или равна нулю."
   ]
  },
  {
   "cell_type": "code",
   "execution_count": 2,
   "id": "5cd2ea62-d16e-4b5a-a586-8d7166b2356d",
   "metadata": {},
   "outputs": [
    {
     "name": "stdout",
     "output_type": "stream",
     "text": [
      "x положительный\n"
     ]
    }
   ],
   "source": [
    "x = 125\n",
    "if x < 0:\n",
    "    print(\"x отрицательный\")\n",
    "elif x == 0:\n",
    "    print(\"x равен 0\")\n",
    "else:\n",
    "    print(\"x положительный\")"
   ]
  },
  {
   "cell_type": "code",
   "execution_count": null,
   "id": "24c8dcb2-2a8b-4bd8-ae51-68db40834b87",
   "metadata": {},
   "outputs": [],
   "source": [
    "2.3. Задание\n",
    "Задача: Напишите код. Задается x, напечатать какому из интервалов принадлежитт: (-infinity, -5), [-5, 5] или от (5, +infinity)"
   ]
  },
  {
   "cell_type": "code",
   "execution_count": 14,
   "id": "63132e7d-4239-47b1-839b-5515ddb841ce",
   "metadata": {},
   "outputs": [
    {
     "name": "stdin",
     "output_type": "stream",
     "text": [
      " -10\n"
     ]
    },
    {
     "name": "stdout",
     "output_type": "stream",
     "text": [
      "x принадлежит: (-infinity, -5)\n"
     ]
    }
   ],
   "source": [
    "x  = int(input())\n",
    "if x < -5:\n",
    "    print('x принадлежит: (-infinity, -5)')\n",
    "elif x > 5:\n",
    "    print('x принадлежит: (5, +infinity)')\n",
    "else:\n",
    "    print('x принадлежит: [-5, 5]')"
   ]
  },
  {
   "cell_type": "code",
   "execution_count": null,
   "id": "493b2f11-8743-47f9-9686-e497de875cdf",
   "metadata": {},
   "outputs": [],
   "source": [
    "3.1. Теоретический материал - Циклы, массивы, срезы\n",
    "Циклы - for и while\n",
    "Цикл while проверяет истинность условия, и если условие истинно, то \n",
    "выполняет инструкции цикла.\n",
    "Синтаксис:\n",
    "while условие:\n",
    " инструкции\n",
    "Инструкции, которые относятся к циклу while, располагаются на \n",
    "последующих строках и должны иметь отступ от начала ключевого слова \n",
    "while.\n",
    "Цикл for проходит по набору значений, помещает каждое значение в \n",
    "переменную с которой в цикле можно производить различные действия.\n",
    "Синтаксис:\n",
    "for переменная in набор_значений:\n",
    " инструкции\n",
    "После ключевого слова for идет название переменной, в которую \n",
    "будут помещаться значения. После оператора in указывается набор значений \n",
    "и двоеточие. Инструкции, которые относятся к циклу, располагаются на \n",
    "последующих строках и должны иметь отступ.\n",
    "При создании цикла удобно пользоваться функцией range(a, b), \n",
    "которая создает последовательность чисел от a до b-1."
   ]
  },
  {
   "cell_type": "code",
   "execution_count": null,
   "id": "8d6f3967-5fde-40bd-8422-19ea7444b298",
   "metadata": {},
   "outputs": [],
   "source": [
    "3.2.1 Пример\n",
    "Задача: Вывести все числа от 1 до 10 с шагом 3"
   ]
  },
  {
   "cell_type": "code",
   "execution_count": 3,
   "id": "5c275ef5-ceba-444d-9508-d9e2b2b0b417",
   "metadata": {},
   "outputs": [
    {
     "name": "stdout",
     "output_type": "stream",
     "text": [
      "1\n",
      "4\n",
      "7\n",
      "10\n"
     ]
    }
   ],
   "source": [
    "x = 1\n",
    "while x <= 10:\n",
    "    print(x)\n",
    "    x+=3"
   ]
  },
  {
   "cell_type": "code",
   "execution_count": null,
   "id": "53f1e83a-b0ec-4413-ade4-d106da5784fc",
   "metadata": {},
   "outputs": [],
   "source": [
    "3.2.2. Пример\n",
    "Задача: Задан список. Напечатать все элементы списка."
   ]
  },
  {
   "cell_type": "code",
   "execution_count": 4,
   "id": "954fa54c-d5b3-408c-a446-4649c26c0bf7",
   "metadata": {},
   "outputs": [
    {
     "name": "stdout",
     "output_type": "stream",
     "text": [
      "KNN\n",
      "desicion tree\n",
      "linear model\n"
     ]
    }
   ],
   "source": [
    "models = ['KNN', 'desicion tree', 'linear model']\n",
    "for model in models:\n",
    "    print(model)"
   ]
  },
  {
   "cell_type": "code",
   "execution_count": null,
   "id": "307cedc5-89a5-4a52-b0a2-28b35f692c61",
   "metadata": {},
   "outputs": [],
   "source": [
    "3.2.3. Пример\n",
    "Задача: Создать список от 1 до 99 с шагом 7"
   ]
  },
  {
   "cell_type": "code",
   "execution_count": 5,
   "id": "abee1cfe-70b1-4381-a8e5-92e25ee0ecc8",
   "metadata": {},
   "outputs": [
    {
     "name": "stdout",
     "output_type": "stream",
     "text": [
      "[1, 8, 15, 22, 29, 36, 43, 50, 57, 64, 71, 78, 85, 92, 99]\n"
     ]
    }
   ],
   "source": [
    "list_int = range(1, 100, 7)\n",
    "print(list(list_int))"
   ]
  },
  {
   "cell_type": "code",
   "execution_count": null,
   "id": "fe954360-53fd-436e-821a-37f85293137d",
   "metadata": {},
   "outputs": [],
   "source": [
    "3.2.4. Пример\n",
    "Задача: Вывести на экран числа от 1 до 105 с шагом 25, используя функцию \n",
    "range()"
   ]
  },
  {
   "cell_type": "code",
   "execution_count": 7,
   "id": "ce8ad1ed-316b-4729-addd-1065eb5204a2",
   "metadata": {},
   "outputs": [
    {
     "name": "stdout",
     "output_type": "stream",
     "text": [
      "5\n",
      "30\n",
      "55\n",
      "80\n",
      "105\n"
     ]
    }
   ],
   "source": [
    "for i in range(5, 106, 25):\n",
    "    print(i)"
   ]
  },
  {
   "cell_type": "code",
   "execution_count": null,
   "id": "b322a1a5-e624-4bfd-b38f-200a19fd0f45",
   "metadata": {},
   "outputs": [],
   "source": [
    "3.2.5. Пример\n",
    "Задача: Срез. Необходимо получить каждый k-й элемент массива a, начиная с \n",
    "элемента с индексом i (включительно) и заканчивая элементом с \n",
    "индексом j (не включительно), c шагом 2. Или переставить все \n",
    "элементы в обратном порядке."
   ]
  },
  {
   "cell_type": "code",
   "execution_count": 13,
   "id": "a7804e5e-bd40-4573-9e98-f2b7815f7347",
   "metadata": {},
   "outputs": [
    {
     "name": "stdout",
     "output_type": "stream",
     "text": [
      "[2, 4]\n",
      "[9, 8, 7, 6, 5, 4, 3, 2, 1]\n"
     ]
    }
   ],
   "source": [
    "a = [1, 2, 3, 4, 5, 6, 7, 8, 9]\n",
    "b = a[1:7:2]\n",
    "c = a[::-1]\n",
    "print(b)\n",
    "print(c)"
   ]
  },
  {
   "cell_type": "code",
   "execution_count": 14,
   "id": "7f325033-437b-4743-a4cd-99208099a377",
   "metadata": {},
   "outputs": [
    {
     "name": "stdout",
     "output_type": "stream",
     "text": [
      "[2, 4]\n"
     ]
    }
   ],
   "source": [
    "print(b)"
   ]
  },
  {
   "cell_type": "code",
   "execution_count": null,
   "id": "35197823-12fd-4a9b-b6c7-ca3e54422ed4",
   "metadata": {},
   "outputs": [],
   "source": [
    "3.3.1. Задание\n",
    "Задача: Выведите числа из примера на while (3.2.1) в обратном порядке."
   ]
  },
  {
   "cell_type": "code",
   "execution_count": 9,
   "id": "8318bd17-b460-4c3b-9d9b-db7aaf92564c",
   "metadata": {},
   "outputs": [
    {
     "name": "stdout",
     "output_type": "stream",
     "text": [
      "10\n",
      "7\n",
      "4\n",
      "1\n"
     ]
    }
   ],
   "source": [
    "x = 10\n",
    "while x > 0:\n",
    "    print(x)\n",
    "    x -= 3"
   ]
  },
  {
   "cell_type": "code",
   "execution_count": null,
   "id": "07e162e4-a351-4cc8-aae8-7c0fbc1d2978",
   "metadata": {},
   "outputs": [],
   "source": [
    "3.3.2. Задание\n",
    "Задача: При решении задач машинного обучения часто в качестве объектов \n",
    "исследования выступает человек. Создайте список значимых \n",
    "характеристик (признаков), идентифицирующих человека. Выведите \n",
    "список на экран."
   ]
  },
  {
   "cell_type": "code",
   "execution_count": 11,
   "id": "718ef681-2f7a-4dec-b3fb-cb775aac9a46",
   "metadata": {},
   "outputs": [
    {
     "name": "stdout",
     "output_type": "stream",
     "text": [
      "sex\n",
      "age\n",
      "length\n",
      "weight\n",
      "hair_color\n"
     ]
    }
   ],
   "source": [
    "human_list = ['sex', 'age', 'length', 'weight', 'hair_color']\n",
    "for i in human_list:\n",
    "    print(i)"
   ]
  },
  {
   "cell_type": "code",
   "execution_count": null,
   "id": "acaf70bb-509e-4992-abcb-e2d43f477e66",
   "metadata": {},
   "outputs": [],
   "source": [
    "3.3.3. Задание\n",
    "Задача: Создать список чисел от 2 до 15 с шагом 1."
   ]
  },
  {
   "cell_type": "code",
   "execution_count": 16,
   "id": "21430bca-67e9-4c3d-b60b-5516a1b2bb34",
   "metadata": {},
   "outputs": [
    {
     "name": "stdout",
     "output_type": "stream",
     "text": [
      "[2, 3, 4, 5, 6, 7, 8, 9, 10, 11, 12, 13, 14, 15]\n"
     ]
    }
   ],
   "source": [
    "my_list = range(2, 16)\n",
    "print(list(my_list))"
   ]
  },
  {
   "cell_type": "code",
   "execution_count": null,
   "id": "9ce4eef6-2066-44eb-8a34-12ab2cf2075b",
   "metadata": {},
   "outputs": [],
   "source": [
    "3.3.4. Задание\n",
    "Задача: Выведите числа из примера на for c функцией range() (3.2.4) в \n",
    "обратном порядке."
   ]
  },
  {
   "cell_type": "code",
   "execution_count": 17,
   "id": "ed9e782a-c9d3-4afa-a11d-2fa47b83fcfd",
   "metadata": {},
   "outputs": [
    {
     "name": "stdout",
     "output_type": "stream",
     "text": [
      "105\n",
      "80\n",
      "55\n",
      "30\n",
      "5\n"
     ]
    }
   ],
   "source": [
    "for i in range (105, 4, -25):\n",
    "    print(i)"
   ]
  },
  {
   "cell_type": "code",
   "execution_count": null,
   "id": "c7054518-765f-49c1-979f-50b09e0bfd69",
   "metadata": {},
   "outputs": [],
   "source": [
    "3.3.5. Задание\n",
    "Задача: Срез. Напишите код, который все элементы массива x с четными \n",
    "индексами переставит в обратном порядке. Т.е. если x = [0, 1, 2, 3, 4, \n",
    "5, 6, 7, 8, 9], то код должен сформировать [8, 1, 6, 3, 4, 5, 2, 7, 0, 9]."
   ]
  },
  {
   "cell_type": "code",
   "execution_count": 29,
   "id": "0cbd6272-87b6-4b4c-a6a9-e67b337ec6f2",
   "metadata": {},
   "outputs": [
    {
     "name": "stdout",
     "output_type": "stream",
     "text": [
      "[8, 1, 6, 3, 4, 5, 2, 7, 0, 9]\n"
     ]
    }
   ],
   "source": [
    "a = [0, 1, 2, 3, 4, 5, 6, 7, 8, 9]\n",
    "b = a[len(a) - 2: 0: -2]\n",
    "j = 0\n",
    "for i in b:\n",
    "    a[j] = i\n",
    "    j +=2\n",
    "a[len(a) - 2] = 0\n",
    "print(a)"
   ]
  },
  {
   "cell_type": "code",
   "execution_count": null,
   "id": "17e6e650-e0f6-46b2-8e4e-26b71b409cc2",
   "metadata": {},
   "outputs": [],
   "source": [
    "4.1 Теоретический материал - Библиотеки\n",
    "Машинное обучение опирается на фундаментальные понятия и законы \n",
    "математики и информатики. Библиотека математических функций (math) \n",
    "применяется при решении большинства прикладных задач анализа данных. \n",
    "Также, и некоторые другие библиотеки Python содержат математические \n",
    "функции (например, NumPy). Важную роль играет библиотека matplotlib, \n",
    "которая позволяет производить визуализацию расчетов в удобной для \n",
    "восприятия человеком форме: графики, диаграммы, гистограммы.\n",
    "Подключение библиотек – синтаксис: \n",
    "import math as m\n",
    "import numpy as np\n",
    "import matplotlib.pyplot as plt\n",
    "etc…\n",
    "Библиотеки в python содержат не только функции, позволяющие решать \n",
    "различные задачи, но и некоторые популярные константы, например число \n",
    "Эйлера."
   ]
  },
  {
   "cell_type": "code",
   "execution_count": null,
   "id": "41b33d10-dc55-4347-b517-84a53e5904e8",
   "metadata": {},
   "outputs": [],
   "source": [
    "4.2.1 Пример\n",
    "Задача: Рассчитать синус от е радиан и вывести результат на экран"
   ]
  },
  {
   "cell_type": "code",
   "execution_count": 9,
   "id": "190e2d84-6e31-49b4-8907-e59055fa28fe",
   "metadata": {},
   "outputs": [
    {
     "name": "stdout",
     "output_type": "stream",
     "text": [
      "0.41078129050290885\n"
     ]
    }
   ],
   "source": [
    "import math as m\n",
    "print(m.sin(m.e))"
   ]
  },
  {
   "cell_type": "code",
   "execution_count": null,
   "id": "3b8c7fa2-e78a-48c2-bcdb-df1ae31ca0fb",
   "metadata": {},
   "outputs": [],
   "source": [
    "4.2.2 Пример\n",
    "Задача: Для функции sin(𝑥𝑒\n",
    "cos(𝑥)\n",
    ") на интервале [0;10] с шагом 0,05 построить \n",
    "график функции, закрасить площадь под ним и вычислить значение \n",
    "этой площади.\n",
    "Для вычисления площади воспользуйте функции trapz(), вычисляющей \n",
    "интеграл по правилу трапеции. Для ее корректной работы необходимо \n",
    "подключить следующие библиотеки:\n",
    "from scipy.integrate import simps\n",
    "from numpy import trapz"
   ]
  },
  {
   "cell_type": "code",
   "execution_count": 10,
   "id": "cc9a5378-bf6e-4eb8-b923-bf650b3a0564",
   "metadata": {},
   "outputs": [
    {
     "name": "stdout",
     "output_type": "stream",
     "text": [
      "7.350792907748662e+01\n"
     ]
    },
    {
     "data": {
      "image/png": "[encoded data removed]",
      "text/plain": [
       "<Figure size 432x288 with 1 Axes>"
      ]
     },
     "metadata": {
      "needs_background": "light"
     },
     "output_type": "display_data"
    }
   ],
   "source": [
    "import numpy as np\n",
    "from matplotlib import pyplot as plt\n",
    "from scipy.integrate import simps\n",
    "from numpy import trapz\n",
    "x = np.arange(0.0, 10, 0.1)\n",
    "y = np.abs(np.sin(x*np.exp(np.cos(x))))\n",
    "plt.grid()\n",
    "plt.plot(x, y, c = \"r\")\n",
    "plt.fill_between(x, y)\n",
    "\n",
    "area = trapz(y)\n",
    "print(area)"
   ]
  },
  {
   "cell_type": "code",
   "execution_count": null,
   "id": "667d1165-1ba4-48b6-b26e-c757c562b9b2",
   "metadata": {},
   "outputs": [],
   "source": [
    "4.2.3 Пример\n",
    "Задача: Дано некоторое распределение оценок в группе за экзамен. Нарисовать \n",
    "круговую и точечную диаграммы распределения."
   ]
  },
  {
   "cell_type": "code",
   "execution_count": 11,
   "id": "c9a65e5f-2d97-4415-9b60-2829f2a7493c",
   "metadata": {},
   "outputs": [
    {
     "data": {
      "image/png": "[encoded data removed]",
      "text/plain": [
       "<Figure size 720x504 with 1 Axes>"
      ]
     },
     "metadata": {},
     "output_type": "display_data"
    },
    {
     "data": {
      "text/plain": [
       "<matplotlib.collections.PathCollection at 0x7f302022ea00>"
      ]
     },
     "execution_count": 11,
     "metadata": {},
     "output_type": "execute_result"
    },
    {
     "data": {
      "image/png": "[encoded data removed]",
      "text/plain": [
       "<Figure size 432x288 with 1 Axes>"
      ]
     },
     "metadata": {
      "needs_background": "light"
     },
     "output_type": "display_data"
    }
   ],
   "source": [
    "from matplotlib import pyplot as plt\n",
    "import numpy as np\n",
    "\n",
    "marks = ['Неуд', 'Удовл', 'Хор', 'Отл']\n",
    "\n",
    "data = [3, 7, 8, 4]\n",
    "fig = plt.figure(figsize =(10, 7))\n",
    "plt.pie(data, labels = marks)\n",
    "plt.show()\n",
    "plt.grid()\n",
    "plt.scatter(marks, data)"
   ]
  },
  {
   "cell_type": "code",
   "execution_count": null,
   "id": "56bd5406-7072-4985-b06a-4a223ac96a5d",
   "metadata": {},
   "outputs": [],
   "source": [
    "4.3.1 Задание\n",
    "Задача: Задайте массив случайных значений из интервала(0; 1). \n",
    "Рассчитайте средние и медианные значения для массива, сравните \n",
    "результаты, какие выводы можно сделать о значениях? \n",
    "Постройте точечную диаграмму рассения полученного ряда."
   ]
  },
  {
   "cell_type": "code",
   "execution_count": 62,
   "id": "5f00d3be-fc6a-4fce-ad70-2c0b21dff959",
   "metadata": {},
   "outputs": [
    {
     "name": "stdout",
     "output_type": "stream",
     "text": [
      "0.519507462564785 0.44456511966945694\n"
     ]
    },
    {
     "data": {
      "image/png": "[encoded data removed]",
      "text/plain": [
       "<Figure size 720x504 with 1 Axes>"
      ]
     },
     "metadata": {
      "needs_background": "light"
     },
     "output_type": "display_data"
    }
   ],
   "source": [
    "import random\n",
    "from statistics import median, mean\n",
    "from matplotlib import pyplot as plt\n",
    "my_list = 10*[0]\n",
    "#dimension = [0, 0.1, 0.2, 0.3, 0.4, 0.5, 0.6, 0.7, 0.8, 0.9]\n",
    "for i in range(0, 10):\n",
    "    my_list[i] = random.random()\n",
    "average = mean(my_list)\n",
    "median = median(my_list)\n",
    "print(average, median)\n",
    "#print(my_list)\n",
    "fig = plt.figure(figsize = (10, 7))\n",
    "plt.grid()\n",
    "plt.scatter(my_list, my_list) #may use dimension\n",
    "plt.show()"
   ]
  },
  {
   "cell_type": "code",
   "execution_count": null,
   "id": "104dc8d1-4fc1-4abf-92ad-fb96bfc3a2e8",
   "metadata": {},
   "outputs": [],
   "source": [
    "4.3.2 Задание\n",
    "Задача: Дана функция \n",
    "Создать массив из 10 значений \n",
    "функции (𝑥, например, изменяется от 1 до 10). Выделить срез первой \n",
    "половины массива и построить графики для основного массива –\n",
    "линейный и для среза – точечный"
   ]
  },
  {
   "cell_type": "code",
   "execution_count": 83,
   "id": "a068f3c3-1e36-4d8c-84d1-886579f0ddc7",
   "metadata": {},
   "outputs": [
    {
     "data": {
      "text/plain": [
       "<matplotlib.collections.PathCollection at 0x7fe581eaff10>"
      ]
     },
     "execution_count": 83,
     "metadata": {},
     "output_type": "execute_result"
    },
    {
     "data": {
      "image/png": "[encoded data removed]",
      "text/plain": [
       "<Figure size 432x288 with 1 Axes>"
      ]
     },
     "metadata": {
      "needs_background": "light"
     },
     "output_type": "display_data"
    }
   ],
   "source": [
    "from math import *\n",
    "import matplotlib.pyplot as plt\n",
    "import numpy as np\n",
    "def func(x):\n",
    "    return (sqrt(1 + exp(sqrt(x)) + cos(x ** 2))) / (abs(1 - sin(x) ** 3)) + log(abs(2 * x))\n",
    "my_list = 10 * [0]\n",
    "for i in range (0, 10):\n",
    "    my_list[i] = func(i + 1)\n",
    "x = [1, 2, 3, 4, 5, 6, 7, 8, 9, 10]\n",
    "plt.grid()\n",
    "plt.plot(x, my_list)\n",
    "plt.scatter(x[:5], my_list[:5])"
   ]
  },
  {
   "cell_type": "code",
   "execution_count": null,
   "id": "b96fe666-79bc-4daa-b3fd-bcbf34ffe46a",
   "metadata": {},
   "outputs": [],
   "source": [
    "4.3.3 Задание\n",
    "Задача: Дана функция |cos(𝑥𝑒\n",
    "(cos(𝑥)+ln(𝑥+1))\n",
    ")| Построить график на \n",
    "интервале (0,10) с шагом 1 с заливкой площади и найти эту площадь \n",
    "под ним. Для вычисления площади воспользуйте функции trapz(), \n",
    "вычисляющей интеграл по правилу трапеции.\n",
    "Для ее корректной работы необходимо подключить следующие \n",
    "библиотеки:\n",
    "from scipy.integrate import simps\n",
    "from numpy import trapz"
   ]
  },
  {
   "cell_type": "code",
   "execution_count": 125,
   "id": "e1488c5d-d325-4801-aa66-7fdb9fc05d77",
   "metadata": {},
   "outputs": [
    {
     "name": "stdout",
     "output_type": "stream",
     "text": [
      "5.769270352360262\n"
     ]
    },
    {
     "data": {
      "image/png": "[encoded data removed]",
      "text/plain": [
       "<Figure size 432x288 with 1 Axes>"
      ]
     },
     "metadata": {
      "needs_background": "light"
     },
     "output_type": "display_data"
    }
   ],
   "source": [
    "from math import *\n",
    "import matplotlib.pyplot as plt\n",
    "import numpy as np\n",
    "from numpy import trapz\n",
    "def func(x):\n",
    "    return abs(cos(x * exp(cos(x) + log(x + 1))))\n",
    "my_list = 10 * [0]\n",
    "for i in range (0, 10):\n",
    "    my_list[i] = func(i + 1)\n",
    "x = np.arange(0, 10, 1)\n",
    "plt.grid()\n",
    "plt.plot(x, my_list, c = 'black', linewidth=2)\n",
    "plt.fill_between(x, my_list)\n",
    "\n",
    "area = trapz(my_list)\n",
    "print(area)"
   ]
  },
  {
   "cell_type": "code",
   "execution_count": null,
   "id": "174003c1-94d2-4a16-b9fe-cfa728e1adb7",
   "metadata": {},
   "outputs": [],
   "source": [
    "4.3.4 Задание \n",
    "Задача: Откройте статистические данные по стоимости акций Apple, \n",
    "Microsoft, Google за 12 месяцев 2021 г. Постройте 3 графика на \n",
    "плоскости и оцените их динамику. Подумайте, как можно улучшить \n",
    "читаемость результатов.\n",
    "Для начальных данных допустимо использовать следующий ресурс: \n",
    "https://finance.yahoo.com"
   ]
  },
  {
   "cell_type": "code",
   "execution_count": 142,
   "id": "9dcb74b6-5cd8-4227-93e9-34f570e2c91f",
   "metadata": {},
   "outputs": [
    {
     "name": "stdout",
     "output_type": "stream",
     "text": [
      "Apple share price growth for 2021 year:  45.609999999999985\n",
      "Microsoft share price growth for 2021 year:  104.35999999999999\n",
      "Google share price growth for 2021 year:  52.89\n"
     ]
    },
    {
     "data": {
      "image/png": "[encoded data removed]",
      "text/plain": [
       "<Figure size 432x288 with 1 Axes>"
      ]
     },
     "metadata": {
      "needs_background": "light"
     },
     "output_type": "display_data"
    }
   ],
   "source": [
    "import matplotlib.pyplot as plt\n",
    "#data has been taken from https://finance.yahoo.com\n",
    "Apple_Inc_2021 = [131.96, 121.26, 122.15, 131.46, 124.61, 136.96, 145.86, 151.83, 141.50, 148.80, 165.30, 177.57]\n",
    "Microsoft_Corporation_2021 = [231.96, 232.38, 235.77, 252.18, 249.68, 270.90, 284.91, 301.88, 281.92, 331.62, 330.59, 336.32]\n",
    "Google_Alphabet_Inc_2021 = [91.79, 101.84, 103.43, 120.51, 120.58, 125.32, 135.22, 145.46, 133.27, 148.27, 142.45, 144.68]\n",
    "x = ['Jan', 'Feb', 'Mar', 'Apr', 'May', 'Jun', 'Jul', 'Aug', 'Sep', 'Oct', 'Nov', 'Dec']\n",
    "plt.title('Corporate shares')\n",
    "plt.xlabel('Green - Microsoft  Red - Apple  Blue - Google')\n",
    "plt.plot(x, Apple_Inc_2021, c = 'red')\n",
    "plt.plot(x, Microsoft_Corporation_2021, c = 'green')\n",
    "plt.plot(x, Google_Alphabet_Inc_2021, c = 'blue')\n",
    "\n",
    "print('Apple share price growth for 2021 year: ', Apple_Inc_2021[-1] - Apple_Inc_2021[0]) \n",
    "print('Microsoft share price growth for 2021 year: ', Microsoft_Corporation_2021[-1] - Microsoft_Corporation_2021[0])\n",
    "print('Google share price growth for 2021 year: ', Google_Alphabet_Inc_2021[-1] - Google_Alphabet_Inc_2021[0])"
   ]
  },
  {
   "cell_type": "code",
   "execution_count": null,
   "id": "26c92dd4-e0db-4433-a3fa-f6bb7d284807",
   "metadata": {},
   "outputs": [],
   "source": [
    "4.3.5 Задание\n",
    "Задача: Создайте простейший калькулятор, включающий основные действия \n",
    "для двух переменных ′ + ′, ′ − ′, ′ ∙ ′, ′ ÷ ′, а также вычисление \n",
    "следующих функций: 𝑒^(𝑥+𝑦), sin(𝑥 + 𝑦) , cos(𝑥 + 𝑦) , 𝑥^𝑦."
   ]
  },
  {
   "cell_type": "code",
   "execution_count": 144,
   "id": "9d06132a-6f6d-4156-8a24-f307866726e1",
   "metadata": {},
   "outputs": [
    {
     "name": "stdout",
     "output_type": "stream",
     "text": [
      "Enter first number: \n"
     ]
    },
    {
     "name": "stdin",
     "output_type": "stream",
     "text": [
      " 5\n"
     ]
    },
    {
     "name": "stdout",
     "output_type": "stream",
     "text": [
      "Enter second number: \n"
     ]
    },
    {
     "name": "stdin",
     "output_type": "stream",
     "text": [
      " 8\n"
     ]
    },
    {
     "name": "stdout",
     "output_type": "stream",
     "text": [
      "Choose one of operation: \n"
     ]
    },
    {
     "name": "stdin",
     "output_type": "stream",
     "text": [
      " func4\n"
     ]
    },
    {
     "data": {
      "text/plain": [
       "390625.0"
      ]
     },
     "execution_count": 144,
     "metadata": {},
     "output_type": "execute_result"
    }
   ],
   "source": [
    "import math\n",
    "def calc():\n",
    "    print('Enter first number: ')\n",
    "    fn = float(input())\n",
    "    print('Enter second number: ')\n",
    "    sn = float(input())\n",
    "    print('Choose one of operation: ')\n",
    "    operation = input()\n",
    "    if operation == '*':\n",
    "        return fn * sn\n",
    "    elif operation == '+':\n",
    "        return fn + sn\n",
    "    elif operation == '-':\n",
    "        return fn - sn\n",
    "    elif operation == '/':\n",
    "        return fn / sn + fn % sn\n",
    "    elif operation == 'func1':\n",
    "        return exp(fn + sn)\n",
    "    elif operation == 'func2':\n",
    "        return sin(fn + sn)\n",
    "    elif operation == 'func3':\n",
    "        return cos(fn + sn)\n",
    "    elif operation == 'func4':\n",
    "        return pow(fn, sn)\n",
    "    else:\n",
    "        return 0\n",
    "    \n",
    "calc()"
   ]
  }
 ],
 "metadata": {
  "kernelspec": {
   "display_name": "anaconda-2022.05-py39",
   "language": "python",
   "name": "conda-env-anaconda-2022.05-py39-py"
  },
  "language_info": {
   "codemirror_mode": {
    "name": "ipython",
    "version": 3
   },
   "file_extension": ".py",
   "mimetype": "text/x-python",
   "name": "python",
   "nbconvert_exporter": "python",
   "pygments_lexer": "ipython3",
   "version": "3.9.12"
  }
 },
 "nbformat": 4,
 "nbformat_minor": 5
}
